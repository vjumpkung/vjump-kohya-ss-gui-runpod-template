{
 "cells": [
  {
   "cell_type": "markdown",
   "id": "2c1f12f8-1613-4170-ba07-d7dcce05da8d",
   "metadata": {
    "jp-MarkdownHeadingCollapsed": true
   },
   "source": [
    "# kohya-ss GUI v24.3.0 FORKED by vjumpkung\n",
    "\n",
    "- Download Model ที่ต้องการโดยผู้ใช้สามารถ Download Model ได้ดังนี้\n",
    "- ผู้ใช้สามารถใช้งาน kohya-ss GUI ผ่านหน้านี้ได้เลย\n",
    "\n",
    "# รายชื่อ Model ที่มีให้ Download\n",
    "\n",
    "## Stable Diffusion 1.5\n",
    "\n",
    "- Stable Diffusion 1.5 (Base Model)\n",
    "- AnyLoRA (สำหรับเทรน Anime)\n",
    "- ChilloutMix (สำหรับ Realistic หน้าเอเชีย)\n",
    "\n",
    "## SDXL\n",
    "\n",
    "- SDXL V1.0 (Base Model)\n",
    "- Juggernaut XL XI (สำหรับ Realistic)\n",
    "- animagine-xl-3.1 (สำหรับ Anime)\n",
    "\n",
    "## SDXL Fine-Tuned\n",
    "\n",
    "- Pony Diffusion V6 XL (Pony)\n",
    "- Illustrious-XL-v0.1 (Illustrious)\n",
    "\n",
    "## SD3\n",
    "\n",
    "- Stable Diffusion 3 Medium\n",
    "\n",
    "## SD3.5\n",
    "\n",
    "- Stable Diffusion 3.5 Large\n",
    "- Stable Diffusion 3.5 Medium\n",
    "\n",
    "## Flux\n",
    "\n",
    "- Flux.1 Dev (FP16)\n",
    "- Flux.1 Dev (FP8)"
   ]
  },
  {
   "cell_type": "markdown",
   "id": "e81c311f-7798-421b-b998-61a7b86a7f74",
   "metadata": {},
   "source": [
    "# Initialization (กดอันนี้ก่อนเสมอ)"
   ]
  },
  {
   "cell_type": "code",
   "execution_count": null,
   "id": "02be4cc5-bec1-4096-a1c1-796e8310c247",
   "metadata": {
    "editable": false,
    "slideshow": {
     "slide_type": ""
    },
    "tags": []
   },
   "outputs": [],
   "source": [
    "from ui.main import *\n",
    "import os\n",
    "os.chdir(\"/notebooks/\")\n",
    "setup()"
   ]
  },
  {
   "cell_type": "markdown",
   "id": "7506d94b-1a60-40fc-a69a-0f872ce0925b",
   "metadata": {},
   "source": [
    "# เลือก Pretrained Model ที่ต้องการ Download (checkpoint)"
   ]
  },
  {
   "cell_type": "code",
   "execution_count": null,
   "id": "9712e3fd-c73d-4801-bdf3-568835d280dc",
   "metadata": {
    "editable": false,
    "slideshow": {
     "slide_type": ""
    },
    "tags": []
   },
   "outputs": [],
   "source": [
    "select_pretrained_model()"
   ]
  },
  {
   "cell_type": "markdown",
   "id": "aadf8924-b306-4672-91a3-69ff34b4b08b",
   "metadata": {},
   "source": [
    "# เลือก Clip, VAE (สำหรับ Flux)"
   ]
  },
  {
   "cell_type": "code",
   "execution_count": null,
   "id": "0b5975e9-b821-4382-b1cc-e926dac69fb5",
   "metadata": {
    "editable": false,
    "slideshow": {
     "slide_type": ""
    },
    "tags": []
   },
   "outputs": [],
   "source": [
    "select_clip_vae_model()"
   ]
  },
  {
   "cell_type": "markdown",
   "id": "1bd1e982-619e-4c24-97f0-d6a00e4db339",
   "metadata": {},
   "source": [
    "# เริ่มโปรแกรม Kohya-SS GUI"
   ]
  },
  {
   "cell_type": "code",
   "execution_count": null,
   "id": "6f54ea47-5919-4de6-ba83-74fc33168655",
   "metadata": {
    "editable": false,
    "slideshow": {
     "slide_type": ""
    },
    "tags": []
   },
   "outputs": [],
   "source": [
    "launch_kohya_ss()"
   ]
  }
 ],
 "metadata": {
  "kernelspec": {
   "display_name": "Python 3 (ipykernel)",
   "language": "python",
   "name": "python3"
  },
  "language_info": {
   "codemirror_mode": {
    "name": "ipython",
    "version": 3
   },
   "file_extension": ".py",
   "mimetype": "text/x-python",
   "name": "python",
   "nbconvert_exporter": "python",
   "pygments_lexer": "ipython3",
   "version": "3.11.11"
  }
 },
 "nbformat": 4,
 "nbformat_minor": 5
}
